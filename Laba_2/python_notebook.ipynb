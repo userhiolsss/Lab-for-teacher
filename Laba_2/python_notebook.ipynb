{
 "cells": [
  {
   "cell_type": "markdown",
   "metadata": {},
   "source": [
    "### Типи змінних\n",
    "#### Стрічкові змінні\n",
    "* змінна це просто імя (буква або набір букв або цифр) яке містить значення"
   ]
  },
  {
   "cell_type": "code",
   "execution_count": null,
   "metadata": {},
   "outputs": [
    {
     "ename": "IndentationError",
     "evalue": "unexpected indent (2161788246.py, line 4)",
     "output_type": "error",
     "traceback": [
      "\u001b[1;36m  Cell \u001b[1;32mIn[1], line 4\u001b[1;36m\u001b[0m\n\u001b[1;33m    = g + o\u001b[0m\n\u001b[1;37m    ^\u001b[0m\n\u001b[1;31mIndentationError\u001b[0m\u001b[1;31m:\u001b[0m unexpected indent\n"
     ]
    }
   ],
   "source": [
    "# Додаємо два числа\n",
    "g = 6\n",
    "o = 9\n",
    "h = g + o\n",
    "print(h)"
   ]
  },
  {
   "cell_type": "code",
   "execution_count": null,
   "metadata": {},
   "outputs": [],
   "source": [
    "#- дозволяє писати коментарі\n",
    "v = 'serhio'\n",
    "print(v,h)"
   ]
  },
  {
   "cell_type": "markdown",
   "metadata": {},
   "source": [
    "## ось така помилка виводится якшо витдалити змінну\n",
    "```python\n",
    "Cell In[1],   line 4\n",
    "    = g + o\n",
    "    ^\n",
    "IndentationError: unexpected indent\n",
    "```"
   ]
  },
  {
   "cell_type": "code",
   "execution_count": 2,
   "metadata": {},
   "outputs": [
    {
     "name": "stdout",
     "output_type": "stream",
     "text": [
      "константа номер one:  True\n",
      "так звана f-строка False\n"
     ]
    }
   ],
   "source": [
    "print(\"константа номер one: \", True)\n",
    "print(f\"так звана f-строка {False}\")\n"
   ]
  },
  {
   "cell_type": "code",
   "execution_count": 3,
   "metadata": {},
   "outputs": [
    {
     "name": "stdout",
     "output_type": "stream",
     "text": [
      "52 не є рівним 53\n",
      "322 є рівним 322\n"
     ]
    }
   ],
   "source": [
    "print(abs(-52), f\"не є рівним {abs(52+1)}\")\n",
    "print(abs(-322), f\"є рівним {abs(322)}\")"
   ]
  },
  {
   "cell_type": "code",
   "execution_count": 4,
   "metadata": {},
   "outputs": [
    {
     "name": "stdout",
     "output_type": "stream",
     "text": [
      "Значить red=False\n",
      "тоді Blue=True\n"
     ]
    }
   ],
   "source": [
    "red = False\n",
    "print(\"Значить red=True\" if red else \"Значить red=False\")\n",
    "Blue = False\n",
    "print(\"Якщо Blue=False\" if Blue else \"тоді Blue=True\")"
   ]
  },
  {
   "cell_type": "code",
   "execution_count": 5,
   "metadata": {},
   "outputs": [
    {
     "name": "stdout",
     "output_type": "stream",
     "text": [
      "На позиції 0 знаходиться буква i\n",
      "На позиції 1 знаходиться буква Y\n",
      "На позиції 2 знаходиться буква u\n"
     ]
    }
   ],
   "source": [
    "# позиця у пайтоні рахується з 0\n",
    "letters = [\"i\", \"Y\", \"u\"]\n",
    "for i in range(len(letters)):\n",
    "    print(f\"На позиції {i} знаходиться буква {letters[i]}\")\n"
   ]
  },
  {
   "cell_type": "code",
   "execution_count": 6,
   "metadata": {},
   "outputs": [
    {
     "name": "stdout",
     "output_type": "stream",
     "text": [
      "Спробуємо вирахувати значення = 1.5555555555555556\n",
      "вот така відповідь\n"
     ]
    }
   ],
   "source": [
    "Blue = 27\n",
    "try:\n",
    "    print(\"Спробуємо вирахувати значення =\" , 42/Blue)\n",
    "except Exception as Blue:\n",
    "    print(Blue)\n",
    "finally:\n",
    "    print(\"вот така відповідь\")"
   ]
  },
  {
   "cell_type": "code",
   "execution_count": 11,
   "metadata": {},
   "outputs": [
    {
     "name": "stdout",
     "output_type": "stream",
     "text": [
      "# Звіт щодо Лабораторної роботи 2\n",
      "\n",
      "\n",
      "\n",
      "## Мета роботи\n",
      "\n",
      "Дослідження основних типів даних у Python, знайомство з використанням змінних різних типів, а також практичне опрацювання циклів, умовних операторів, конструкцій try-except-finally, контекст-менеджерів та лямбда-функцій.\n",
      "\n",
      "\n",
      "\n",
      "## Виконані завдання\n",
      "\n",
      "\n",
      "\n",
      "1. Основні типи даних: Створено змінні різних типів: рядки (str), цілі числа (int), числа з плаваючою комою (float), списки (list), словники (dict), кортежі (tuple) та множини (set). Кожен із цих типів має унікальні особливості для зберігання та обробки інформації.\n",
      "\n",
      "\n",
      "\n",
      "2. Виведення вбудованих констант: Для демонстрації було виведено стандартні константи Python, як-от True, None та False.\n",
      "\n",
      "\n",
      "\n",
      "3. Вбудовані функції: Опробовано роботу кількох вбудованих функцій Python, зокрема, abs() для отримання модуля числа, max() для пошуку максимального значення у списку та len() для визначення довжини рядка.\n",
      "\n",
      "\n",
      "\n",
      "4. Цикли: Використано цикл for для ітерації по списку та while для прикладу умовних повторень.\n",
      "\n",
      "\n",
      "\n",
      "5. Умовні оператори: Демонстрація умовних операторів if, elif та else для вибору дій залежно від певних умов.\n",
      "\n",
      "\n",
      "\n",
      "6. Обробка винятків: Ознайомлення з конструкцією try-except-finally для обробки помилок. Цей механізм допомагає уникнути помилок під час виконання коду, а також виконує визначені дії незалежно від успішності чи невдачі операції.\n",
      "\n",
      "\n",
      "\n",
      "7. Контекст-менеджер with: Використано конструкцію with для роботи з файлом, що забезпечує автоматичне закриття файлу після завершення операцій з ним.\n",
      "\n"
     ]
    }
   ],
   "source": [
    "with open(\"README.md\", \"r\", encoding=\"(utf-8)\") as f:\n",
    "    for line in f:\n",
    "        print(line)"
   ]
  },
  {
   "cell_type": "code",
   "execution_count": 9,
   "metadata": {},
   "outputs": [
    {
     "name": "stdout",
     "output_type": "stream",
     "text": [
      "це викликає її адресу в пам'яті: <function <lambda> at 0x00000164701658A0>\n",
      "виклик функції: Цей код зробив: ім*я Ярема, прізвище Ющак, 18 років\n"
     ]
    }
   ],
   "source": [
    "my_lambda = lambda name, surname, age: f'Цей код зробив: ім*я {name}, прізвище {surname}, {age} років'\n",
    "print(\"це викликає її адресу в пам'яті:\", my_lambda)\n",
    "print(\"виклик функції:\", my_lambda('Ярема', 'Ющак', 18))"
   ]
  }
 ],
 "metadata": {
  "kernelspec": {
   "display_name": "Python 3",
   "language": "python",
   "name": "python3"
  },
  "language_info": {
   "codemirror_mode": {
    "name": "ipython",
    "version": 3
   },
   "file_extension": ".py",
   "mimetype": "text/x-python",
   "name": "python",
   "nbconvert_exporter": "python",
   "pygments_lexer": "ipython3",
   "version": "3.11.9"
  }
 },
 "nbformat": 4,
 "nbformat_minor": 2
}
