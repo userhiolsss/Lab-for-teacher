{
 "cells": [
  {
   "cell_type": "markdown",
   "metadata": {},
   "source": [
    "### Типи змінних\n",
    "#### Стрічкові змінні\n",
    "* змінна це просто імя (буква або набір букв або цифр) яке містить значення"
   ]
  },
  {
   "cell_type": "code",
   "execution_count": 12,
   "metadata": {},
   "outputs": [
    {
     "name": "stdout",
     "output_type": "stream",
     "text": [
      "15\n"
     ]
    }
   ],
   "source": [
    "# Додаємо два числа\n",
    "g = 6\n",
    "o = 9\n",
    "h = g + o\n",
    "print(h)"
   ]
  },
  {
   "cell_type": "code",
   "execution_count": 13,
   "metadata": {},
   "outputs": [
    {
     "name": "stdout",
     "output_type": "stream",
     "text": [
      "serhio 15\n"
     ]
    }
   ],
   "source": [
    "#- дозволяє писати коментарі\n",
    "v = 'serhio'\n",
    "print(v,h)"
   ]
  },
  {
   "cell_type": "markdown",
   "metadata": {},
   "source": [
    "## ось така помилка виводится якшо витдалити змінну\n",
    "```python\n",
    "Cell In[1],   line 4\n",
    "    = g + o\n",
    "    ^\n",
    "IndentationError: unexpected indent\n",
    "```"
   ]
  },
  {
   "cell_type": "code",
   "execution_count": 14,
   "metadata": {},
   "outputs": [
    {
     "name": "stdout",
     "output_type": "stream",
     "text": [
      "константа номер one:  True\n",
      "так звана f-строка False\n"
     ]
    }
   ],
   "source": [
    "print(\"константа номер one: \", True)\n",
    "print(f\"так звана f-строка {False}\")\n"
   ]
  },
  {
   "cell_type": "code",
   "execution_count": 15,
   "metadata": {},
   "outputs": [
    {
     "name": "stdout",
     "output_type": "stream",
     "text": [
      "52 не є рівним 53\n",
      "322 є рівним 322\n"
     ]
    }
   ],
   "source": [
    "print(abs(-52), f\"не є рівним {abs(52+1)}\")\n",
    "print(abs(-322), f\"є рівним {abs(322)}\")"
   ]
  },
  {
   "cell_type": "code",
   "execution_count": 16,
   "metadata": {},
   "outputs": [
    {
     "name": "stdout",
     "output_type": "stream",
     "text": [
      "Значить red=False\n",
      "тоді Blue=True\n"
     ]
    }
   ],
   "source": [
    "red = False\n",
    "print(\"Значить red=True\" if red else \"Значить red=False\")\n",
    "Blue = False\n",
    "print(\"Якщо Blue=False\" if Blue else \"тоді Blue=True\")"
   ]
  },
  {
   "cell_type": "code",
   "execution_count": 17,
   "metadata": {},
   "outputs": [
    {
     "name": "stdout",
     "output_type": "stream",
     "text": [
      "На позиції 0 знаходиться буква i\n",
      "На позиції 1 знаходиться буква Y\n",
      "На позиції 2 знаходиться буква u\n"
     ]
    }
   ],
   "source": [
    "# позиця у пайтоні рахується з 0\n",
    "letters = [\"i\", \"Y\", \"u\"]\n",
    "for i in range(len(letters)):\n",
    "    print(f\"На позиції {i} знаходиться буква {letters[i]}\")\n"
   ]
  },
  {
   "cell_type": "code",
   "execution_count": 18,
   "metadata": {},
   "outputs": [
    {
     "name": "stdout",
     "output_type": "stream",
     "text": [
      "Спробуємо вирахувати значення = 1.5555555555555556\n",
      "вот така відповідь\n"
     ]
    }
   ],
   "source": [
    "Blue = 27\n",
    "try:\n",
    "    print(\"Спробуємо вирахувати значення =\" , 42/Blue)\n",
    "except Exception as Blue:\n",
    "    print(Blue)\n",
    "finally:\n",
    "    print(\"вот така відповідь\")"
   ]
  },
  {
   "cell_type": "code",
   "execution_count": 19,
   "metadata": {},
   "outputs": [
    {
     "name": "stdout",
     "output_type": "stream",
     "text": [
      "# Звіт щодо Лабораторної роботи 2\n",
      "\n",
      "\n",
      "\n",
      "## Мета роботи\n",
      "\n",
      "Дослідження основних типів даних у Python, знайомство з використанням змінних різних типів, а також практичне опрацювання циклів, умовних операторів, конструкцій try-except-finally, контекст-менеджерів та лямбда-функцій.\n",
      "\n",
      "\n",
      "\n",
      "## Виконані завдання\n",
      "\n",
      "\n",
      "\n",
      "1. Основні типи даних: Створено змінні різних типів: рядки (str), цілі числа (int), числа з плаваючою комою (float), списки (list), словники (dict), кортежі (tuple) та множини (set). Кожен із цих типів має унікальні особливості для зберігання та обробки інформації.\n",
      "\n",
      "\n",
      "\n",
      "2. Виведення вбудованих констант: Для демонстрації було виведено стандартні константи Python, як-от True, None та False.\n",
      "\n",
      "\n",
      "\n",
      "3. Вбудовані функції: Опробовано роботу кількох вбудованих функцій Python, зокрема, abs() для отримання модуля числа, max() для пошуку максимального значення у списку та len() для визначення довжини рядка.\n",
      "\n",
      "\n",
      "\n",
      "4. Цикли: Використано цикл for для ітерації по списку та while для прикладу умовних повторень.\n",
      "\n",
      "\n",
      "\n",
      "5. Умовні оператори: Демонстрація умовних операторів if, elif та else для вибору дій залежно від певних умов.\n",
      "\n",
      "\n",
      "\n",
      "6. Обробка винятків: Ознайомлення з конструкцією try-except-finally для обробки помилок. Цей механізм допомагає уникнути помилок під час виконання коду, а також виконує визначені дії незалежно від успішності чи невдачі операції.\n",
      "\n",
      "\n",
      "\n",
      "7. Контекст-менеджер with: Використано конструкцію with для роботи з файлом, що забезпечує автоматичне закриття файлу після завершення операцій з ним.\n",
      "\n"
     ]
    }
   ],
   "source": [
    "with open(\"README.md\", \"r\", encoding=\"(utf-8)\") as f:\n",
    "    for line in f:\n",
    "        print(line)"
   ]
  },
  {
   "cell_type": "code",
   "execution_count": 20,
   "metadata": {},
   "outputs": [
    {
     "name": "stdout",
     "output_type": "stream",
     "text": [
      "це викликає її адресу в пам'яті: <function <lambda> at 0x0000022451D327A0>\n",
      "виклик функції: Цей код зробив: ім*я Ярема, прізвище Ющак, 18 років\n"
     ]
    }
   ],
   "source": [
    "my_lambda = lambda name, surname, age: f'Цей код зробив: ім*я {name}, прізвище {surname}, {age} років'\n",
    "print(\"це викликає її адресу в пам'яті:\", my_lambda)\n",
    "print(\"виклик функції:\", my_lambda('Ярема', 'Ющак', 18))"
   ]
  },
  {
   "cell_type": "markdown",
   "metadata": {},
   "source": [
    "## доповнення лабараторної згідно коментаря в класрум"
   ]
  },
  {
   "cell_type": "code",
   "execution_count": 31,
   "metadata": {},
   "outputs": [
    {
     "name": "stdout",
     "output_type": "stream",
     "text": [
      "{'Текстова змінна10', 'key'}\n"
     ]
    }
   ],
   "source": [
    "text_var = \"Текстова змінна\"\n",
    "num_var = 10  # числове значення\n",
    "decimal_var = 2.3\n",
    "mixed_list = [\"text_var\", 2, 2.5, \"Речення\", text_var]  # Список\n",
    "data_dict = {\"key1\": \"Речення\", \"key2\": 2, text_var: num_var}  # Словник\n",
    "coords_tuple = (\"key1\", text_var)  # Кортеж\n",
    "unique_set = {\"key\", text_var + str(num_var)}  # Множина\n",
    "print(unique_set)"
   ]
  },
  {
   "cell_type": "code",
   "execution_count": 22,
   "metadata": {},
   "outputs": [
    {
     "name": "stdout",
     "output_type": "stream",
     "text": [
      "Перша константа:  False\n",
      "Чи можна використовувати таке форматування? False\n"
     ]
    }
   ],
   "source": [
    "print(\"Перша константа: \", False)\n",
    "print(f\"Чи можна використовувати таке форматування? {False}\")"
   ]
  },
  {
   "cell_type": "code",
   "execution_count": 23,
   "metadata": {},
   "outputs": [
    {
     "name": "stdout",
     "output_type": "stream",
     "text": [
      "15.7 дорівнює 15.7\n"
     ]
    }
   ],
   "source": [
    "print(abs(-15.7), f\"дорівнює {abs(15.7)}\")"
   ]
  },
  {
   "cell_type": "code",
   "execution_count": 24,
   "metadata": {},
   "outputs": [
    {
     "name": "stdout",
     "output_type": "stream",
     "text": [
      "На індексі 0 знаходиться буква x\n",
      "На індексі 1 знаходиться буква y\n",
      "На індексі 2 знаходиться буква z\n"
     ]
    }
   ],
   "source": [
    "alphabet = [\"x\", \"y\", \"z\"]\n",
    "for index in range(len(alphabet)):\n",
    "    print(f\"На індексі {index} знаходиться буква {alphabet[index]}\")"
   ]
  },
  {
   "cell_type": "code",
   "execution_count": 25,
   "metadata": {},
   "outputs": [
    {
     "name": "stdout",
     "output_type": "stream",
     "text": [
      "Це означає flag=True\n"
     ]
    }
   ],
   "source": [
    "flag = False\n",
    "print(\"Це означає flag=False\" if flag else \"Це означає flag=True\")"
   ]
  },
  {
   "cell_type": "code",
   "execution_count": 26,
   "metadata": {},
   "outputs": [
    {
     "name": "stdout",
     "output_type": "stream",
     "text": [
      "Що відбудеться, якщо розділити на 5 ?\n",
      "І ось результат!\n"
     ]
    }
   ],
   "source": [
    "value = 5\n",
    "try:\n",
    "    print(\"Що відбудеться, якщо розділити на\", value, \"?\")\n",
    "except ZeroDivisionError as error:\n",
    "    print(error)\n",
    "finally:\n",
    "    print(\"І ось результат!\")"
   ]
  },
  {
   "cell_type": "code",
   "execution_count": 29,
   "metadata": {},
   "outputs": [
    {
     "name": "stdout",
     "output_type": "stream",
     "text": [
      "# Звіт щодо Лабораторної роботи 2\n",
      "\n",
      "\n",
      "\n",
      "## Мета роботи\n",
      "\n",
      "Дослідження основних типів даних у Python, знайомство з використанням змінних різних типів, а також практичне опрацювання циклів, умовних операторів, конструкцій try-except-finally, контекст-менеджерів та лямбда-функцій.\n",
      "\n",
      "\n",
      "\n",
      "## Виконані завдання\n",
      "\n",
      "\n",
      "\n",
      "1. Основні типи даних: Створено змінні різних типів: рядки (str), цілі числа (int), числа з плаваючою комою (float), списки (list), словники (dict), кортежі (tuple) та множини (set). Кожен із цих типів має унікальні особливості для зберігання та обробки інформації.\n",
      "\n",
      "\n",
      "\n",
      "2. Виведення вбудованих констант: Для демонстрації було виведено стандартні константи Python, як-от True, None та False.\n",
      "\n",
      "\n",
      "\n",
      "3. Вбудовані функції: Опробовано роботу кількох вбудованих функцій Python, зокрема, abs() для отримання модуля числа, max() для пошуку максимального значення у списку та len() для визначення довжини рядка.\n",
      "\n",
      "\n",
      "\n",
      "4. Цикли: Використано цикл for для ітерації по списку та while для прикладу умовних повторень.\n",
      "\n",
      "\n",
      "\n",
      "5. Умовні оператори: Демонстрація умовних операторів if, elif та else для вибору дій залежно від певних умов.\n",
      "\n",
      "\n",
      "\n",
      "6. Обробка винятків: Ознайомлення з конструкцією try-except-finally для обробки помилок. Цей механізм допомагає уникнути помилок під час виконання коду, а також виконує визначені дії незалежно від успішності чи невдачі операції.\n",
      "\n",
      "\n",
      "\n",
      "7. Контекст-менеджер with: Використано конструкцію with для роботи з файлом, що забезпечує автоматичне закриття файлу після завершення операцій з ним.\n",
      "\n"
     ]
    }
   ],
   "source": [
    "with open(\"README.md\", \"r\", encoding=\"(utf-8)\") as file:\n",
    "    for line in file:\n",
    "        print(line)"
   ]
  },
  {
   "cell_type": "code",
   "execution_count": 30,
   "metadata": {},
   "outputs": [
    {
     "name": "stdout",
     "output_type": "stream",
     "text": [
      "Ось сама функція: <function <lambda> at 0x0000022453425C60>\n",
      "І це виклик функції: Автор коду: Марія Іванова\n"
     ]
    }
   ],
   "source": [
    "greeting_func = lambda first_name, last_name: f'Автор коду: {first_name} {last_name}'\n",
    "print(\"Ось сама функція:\", greeting_func)\n",
    "print(\"І це виклик функції:\", greeting_func('Марія', 'Іванова'))"
   ]
  }
 ],
 "metadata": {
  "kernelspec": {
   "display_name": "Python 3",
   "language": "python",
   "name": "python3"
  },
  "language_info": {
   "codemirror_mode": {
    "name": "ipython",
    "version": 3
   },
   "file_extension": ".py",
   "mimetype": "text/x-python",
   "name": "python",
   "nbconvert_exporter": "python",
   "pygments_lexer": "ipython3",
   "version": "3.11.9"
  }
 },
 "nbformat": 4,
 "nbformat_minor": 2
}
