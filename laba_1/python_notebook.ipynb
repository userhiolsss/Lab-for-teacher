{
 "cells": [
  {
   "cell_type": "code",
   "execution_count": 1,
   "metadata": {},
   "outputs": [
    {
     "name": "stdout",
     "output_type": "stream",
     "text": [
      "Обчислення віку...\n",
      "Визначення статусу...\n",
      "Ярема є 18 років і він вважається мужичара.\n"
     ]
    }
   ],
   "source": [
    "import time\n",
    "\n",
    "name = \"Ярема\"\n",
    "birth_year = 2006\n",
    "\n",
    "print(\"Обчислення віку...\")\n",
    "time.sleep(2) \n",
    "\n",
    "current_year = time.localtime().tm_year\n",
    "age = current_year - birth_year\n",
    "\n",
    "print(\"Визначення статусу...\")\n",
    "time.sleep(1)  \n",
    "status = \"мужичара\" if age >= 18 else \"школотрон\"\n",
    "\n",
    "print(f\"{name} є {age} років і він вважається {status}.\")"
   ]
  },
  {
   "cell_type": "markdown",
   "metadata": {},
   "source": [
    "Перша прога яка показує чи мужичара чи шклоло"
   ]
  }
 ],
 "metadata": {
  "kernelspec": {
   "display_name": "Python 3",
   "language": "python",
   "name": "python3"
  },
  "language_info": {
   "codemirror_mode": {
    "name": "ipython",
    "version": 3
   },
   "file_extension": ".py",
   "mimetype": "text/x-python",
   "name": "python",
   "nbconvert_exporter": "python",
   "pygments_lexer": "ipython3",
   "version": "3.11.9"
  }
 },
 "nbformat": 4,
 "nbformat_minor": 2
}
