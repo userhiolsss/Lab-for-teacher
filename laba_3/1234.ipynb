{
 "cells": [
  {
   "cell_type": "code",
   "execution_count": 1,
   "metadata": {},
   "outputs": [
    {
     "data": {
      "text/plain": [
       "<module 'my_class' from 'c:\\\\Users\\\\apoiv\\\\lab\\\\Lab-for-teacher\\\\laba_3\\\\my_class.py'>"
      ]
     },
     "execution_count": 1,
     "metadata": {},
     "output_type": "execute_result"
    }
   ],
   "source": [
    "# 1. Імпортуємо модулі та перевантажуємо клас\n",
    "import importlib\n",
    "import my_class\n",
    "\n",
    "importlib.reload(my_class)"
   ]
  },
  {
   "cell_type": "code",
   "execution_count": 2,
   "metadata": {},
   "outputs": [
    {
     "name": "stdout",
     "output_type": "stream",
     "text": [
      "<class 'my_class.YaremaStudent'>\n",
      "Help on class YaremaStudent in module my_class:\n",
      "\n",
      "class YaremaStudent(builtins.object)\n",
      " |  YaremaStudent(last_name: str, first_name: str, grade: int, department=None)\n",
      " |  \n",
      " |  Клас для опису студента Яреми та його атрибутів\n",
      " |  \n",
      " |  Methods defined here:\n",
      " |  \n",
      " |  __del__(self)\n",
      " |      Делегування об'єкта\n",
      " |  \n",
      " |  __init__(self, last_name: str, first_name: str, grade: int, department=None)\n",
      " |      Ініціалізуємо атрибути студента Яреми\n",
      " |  \n",
      " |  calculate_scholarship(self, rating: int)\n",
      " |      Обчислення стипендії за рейтингом\n",
      " |  \n",
      " |  ----------------------------------------------------------------------\n",
      " |  Class methods defined here:\n",
      " |  \n",
      " |  create_from_full_name(full_name: str)\n",
      " |      Альтернативний конструктор для створення об'єкта з повного імені\n",
      " |  \n",
      " |  create_from_reversed_name(full_name: str)\n",
      " |      Альтернативний конструктор для створення об'єкта з повного імені, де першим йде ім'я\n",
      " |  \n",
      " |  ----------------------------------------------------------------------\n",
      " |  Static methods defined here:\n",
      " |  \n",
      " |  hobbies(h=None)\n",
      " |      Метод для визначення крутості Яреми\n",
      " |  \n",
      " |  ----------------------------------------------------------------------\n",
      " |  Readonly properties defined here:\n",
      " |  \n",
      " |  college_raiting\n",
      " |      Властивість для обчислення рейтингу крутості в університеті Яреми\n",
      " |  \n",
      " |  first_name\n",
      " |      Захищене ім'я студента\n",
      " |  \n",
      " |  last_name\n",
      " |      Захищене прізвище студента\n",
      " |  \n",
      " |  ----------------------------------------------------------------------\n",
      " |  Data descriptors defined here:\n",
      " |  \n",
      " |  __dict__\n",
      " |      dictionary for instance variables\n",
      " |  \n",
      " |  __weakref__\n",
      " |      list of weak references to the object\n",
      " |  \n",
      " |  ----------------------------------------------------------------------\n",
      " |  Data and other attributes defined here:\n",
      " |  \n",
      " |  department_name = 'ІТ Факультет'\n",
      " |  \n",
      " |  total_marks = 0\n",
      " |  \n",
      " |  total_students = 0\n",
      " |  \n",
      " |  university_name = 'Університет Яреми'\n",
      "\n"
     ]
    }
   ],
   "source": [
    "# 2. Імпортуємо клас та функції, та викликаємо довідку\n",
    "from my_class import YaremaStudent\n",
    "\n",
    "print(YaremaStudent)\n",
    "help(YaremaStudent)"
   ]
  },
  {
   "cell_type": "code",
   "execution_count": 3,
   "metadata": {},
   "outputs": [
    {
     "name": "stdout",
     "output_type": "stream",
     "text": [
      "['Студент Стосик Юра отримав оцінку 5', 'Студент Кукуруза Назар отримав оцінку 1', 'Студент Рубан Орест отримав оцінку 2', 'Студент Ющак Ярема отримав оцінку 2']\n"
     ]
    }
   ],
   "source": [
    "# 3. Створення списку студентів та їх оцінок\n",
    "name = [\"Юра\", \"Назар\", \"Орест\", \"Ярема\"]\n",
    "surname = [\"Стосик\", \"Кукуруза\", \"Рубан\", \"Ющак\"]\n",
    "mark = [5, 1, 2, 2]\n",
    "\n",
    "print([f\"Студент {surname[i]} {name[i]} отримав оцінку {mark[i]}\" for i in range(len(name))])"
   ]
  },
  {
   "cell_type": "code",
   "execution_count": 4,
   "metadata": {},
   "outputs": [
    {
     "name": "stdout",
     "output_type": "stream",
     "text": [
      "Студент Юра Стосик отримав оцінку 5\n",
      "Студент Назар Кукуруза отримав оцінку 0\n",
      "Студент Орест Рубан отримав оцінку 0\n",
      "Студент Ярема Ющак отримав оцінку 0\n"
     ]
    }
   ],
   "source": [
    "# 4. Створення словника для студентів та їх оцінок\n",
    "cap = {\n",
    "    \"Прізвище\": [\"Юра\", \"Назар\", \"Орест\", \"Ярема\"],\n",
    "    \"Імя\": [\"Стосик\", \"Кукуруза\", \"Рубан\", \"Ющак\"],\n",
    "    \"Оцінка\": [5, 0, 0, 0]\n",
    "}\n",
    "\n",
    "for str in range(len(cap[\"Прізвище\"])):\n",
    "    print(f\"Студент {cap['Прізвище'][str]} {cap['Імя'][str]} отримав оцінку {cap['Оцінка'][str]}\")\n"
   ]
  },
  {
   "cell_type": "code",
   "execution_count": 5,
   "metadata": {},
   "outputs": [
    {
     "name": "stdout",
     "output_type": "stream",
     "text": [
      "Викликаємо __init__\n",
      "Викликаємо __init__\n",
      "Викликаємо __init__\n",
      "Викликаємо __init__\n",
      "Студент Юра Стосик отримав оцінку 4\n",
      "Студент Назар Кукуруза отримав оцінку 5\n",
      "Студент Орест Рубан отримав оцінку 3\n",
      "Студент Ющак Ярема отримав оцінку 4\n"
     ]
    }
   ],
   "source": [
    "# 5. Створення об'єктів та виведення їх атрибутів\n",
    "from my_class import YaremaStudent\n",
    "\n",
    "c = [YaremaStudent(\"Юра\", \"Стосик\", 4),\n",
    "     YaremaStudent(\"Назар\", \"Кукуруза\", 5),\n",
    "     YaremaStudent(\"Орест\", \"Рубан\", 3),\n",
    "     YaremaStudent(\"Ющак\", \"Ярема\", 4)\n",
    "     ]\n",
    "\n",
    "for student in c:\n",
    "    print(f\"Студент {student.last_name} {student.first_name} отримав оцінку {student.grade}\")"
   ]
  },
  {
   "cell_type": "code",
   "execution_count": 6,
   "metadata": {},
   "outputs": [
    {
     "name": "stdout",
     "output_type": "stream",
     "text": [
      "Викликаємо __init__\n",
      "<my_class.YaremaStudent object at 0x00000145B2647310>\n",
      "Help on YaremaStudent in module my_class object:\n",
      "\n",
      "class YaremaStudent(builtins.object)\n",
      " |  YaremaStudent(last_name: str, first_name: str, grade: int, department=None)\n",
      " |  \n",
      " |  Клас для опису студента Яреми та його атрибутів\n",
      " |  \n",
      " |  Methods defined here:\n",
      " |  \n",
      " |  __del__(self)\n",
      " |      Делегування об'єкта\n",
      " |  \n",
      " |  __init__(self, last_name: str, first_name: str, grade: int, department=None)\n",
      " |      Ініціалізуємо атрибути студента Яреми\n",
      " |  \n",
      " |  calculate_scholarship(self, rating: int)\n",
      " |      Обчислення стипендії за рейтингом\n",
      " |  \n",
      " |  ----------------------------------------------------------------------\n",
      " |  Class methods defined here:\n",
      " |  \n",
      " |  create_from_full_name(full_name: str)\n",
      " |      Альтернативний конструктор для створення об'єкта з повного імені\n",
      " |  \n",
      " |  create_from_reversed_name(full_name: str)\n",
      " |      Альтернативний конструктор для створення об'єкта з повного імені, де першим йде ім'я\n",
      " |  \n",
      " |  ----------------------------------------------------------------------\n",
      " |  Static methods defined here:\n",
      " |  \n",
      " |  hobbies(h=None)\n",
      " |      Метод для визначення крутості Яреми\n",
      " |  \n",
      " |  ----------------------------------------------------------------------\n",
      " |  Readonly properties defined here:\n",
      " |  \n",
      " |  college_raiting\n",
      " |      Властивість для обчислення рейтингу крутості в університеті Яреми\n",
      " |  \n",
      " |  first_name\n",
      " |      Захищене ім'я студента\n",
      " |  \n",
      " |  last_name\n",
      " |      Захищене прізвище студента\n",
      " |  \n",
      " |  ----------------------------------------------------------------------\n",
      " |  Data descriptors defined here:\n",
      " |  \n",
      " |  __dict__\n",
      " |      dictionary for instance variables\n",
      " |  \n",
      " |  __weakref__\n",
      " |      list of weak references to the object\n",
      " |  \n",
      " |  ----------------------------------------------------------------------\n",
      " |  Data and other attributes defined here:\n",
      " |  \n",
      " |  department_name = 'ІТ Факультет'\n",
      " |  \n",
      " |  total_marks = 68\n",
      " |  \n",
      " |  total_students = 5\n",
      " |  \n",
      " |  university_name = 'Університет Яреми'\n",
      "\n",
      "Клас для опису студента Яреми та його атрибутів\n",
      "Довжина прізвища:  7\n",
      "Беремо атрибут імені Старенький\n"
     ]
    }
   ],
   "source": [
    "# 6. Перевірка атрибутів об'єкта\n",
    "from my_class import YaremaStudent\n",
    "\n",
    "obj = YaremaStudent(\"Внатурі\", \"Старенький\", 52)\n",
    "\n",
    "print(obj)\n",
    "help(obj)\n",
    "\n",
    "print(YaremaStudent.__doc__)\n",
    "\n",
    "print(\"Довжина прізвища: \", len(obj.last_name))\n",
    "\n",
    "print(\"Беремо атрибут імені\", obj.first_name)"
   ]
  },
  {
   "cell_type": "code",
   "execution_count": 7,
   "metadata": {},
   "outputs": [
    {
     "name": "stdout",
     "output_type": "stream",
     "text": [
      "Викликаємо __init__\n",
      "В обєкта будуть наступні атрибути: {'_YaremaStudent__last_name': 'Один', '_YaremaStudent__first_name': 'Юра', 'grade': 1, 'department': None, '_age': None, '_scholarship': 0}\n",
      "Викликаємо __init__\n",
      "{'_YaremaStudent__last_name': 'Один', '_YaremaStudent__first_name': 'Юра', 'grade': 1, 'department': 'TK-41', '_age': None, '_scholarship': 0} але базові атрибути будуть доступними для {'_YaremaStudent__last_name': 'Два', '_YaremaStudent__first_name': 'Назар', 'grade': 2, 'department': None, '_age': None, '_scholarship': 0}\n",
      "Викликаємо __init__\n",
      "В цьоьму обєкті ми явно задали всі атрибути {'_YaremaStudent__last_name': 'Три', '_YaremaStudent__first_name': 'Олена', 'grade': 3, 'department': 'TK-42', '_age': None, '_scholarship': 0}\n"
     ]
    }
   ],
   "source": [
    "# 7. Демонстрація атрибутів об'єктів та їх зміни\n",
    "from my_class import YaremaStudent\n",
    "\n",
    "s1 = YaremaStudent(\"Один\", \"Юра\", 1)\n",
    "print(f\"В обєкта будуть наступні атрибути: {s1.__dict__}\")\n",
    "s1.department = \"TK-41\"\n",
    "\n",
    "s2 = YaremaStudent(\"Два\", \"Назар\", 2)\n",
    "print(f\"{s1.__dict__} але базові атрибути будуть доступними для {s2.__dict__}\")\n",
    "\n",
    "s3 = YaremaStudent(\"Три\", \"Олена\", 3, \"TK-42\")\n",
    "print(f\"В цьоьму обєкті ми явно задали всі атрибути {s3.__dict__}\")"
   ]
  },
  {
   "cell_type": "code",
   "execution_count": 8,
   "metadata": {},
   "outputs": [
    {
     "name": "stdout",
     "output_type": "stream",
     "text": [
      "Юра\n"
     ]
    }
   ],
   "source": [
    "# 8. Виведення атрибута об'єкта\n",
    "print(s1.first_name)\n",
    "# s1.first_name = \"Три\"  # Це викликає помилку, бо first_name є властивістю"
   ]
  },
  {
   "cell_type": "code",
   "execution_count": 9,
   "metadata": {},
   "outputs": [
    {
     "name": "stdout",
     "output_type": "stream",
     "text": [
      "Викликаємо __init__\n",
      "вигнали студента Юра Один\n",
      "Присвоєно круту стипендію\n",
      "1000 грн\n",
      "\n",
      "Тільки прийшли вчитись в коледж: 1000 грн\n",
      "Провчились семестр і здали все на 5:  Присвоєно круту стипендію\n",
      "І наша стипендія тепер: 1000 грн\n",
      "За другий семетр набрали рейтинг 4 : Присвоєно не круту стипендію\n",
      "А тепер вона: 750 грн\n",
      "Перестали вчитись: Рейтинг занизький рівент крутості для стипендії\n",
      "а тепер: 0\n",
      "\n"
     ]
    }
   ],
   "source": [
    "# 9. Виклик методів для обчислення стипендії\n",
    "from my_class import YaremaStudent\n",
    "\n",
    "s1 = YaremaStudent(\"Один\", \"Юра\", 1)\n",
    "\n",
    "print(s1.calculate_scholarship(5))\n",
    "print(s1._scholarship)\n",
    "\n",
    "print(f\"\"\"\n",
    "Тільки прийшли вчитись в коледж: {s1._scholarship}\n",
    "Провчились семестр і здали все на 5:  {s1.calculate_scholarship(5)}\n",
    "І наша стипендія тепер: {s1._scholarship}\n",
    "За другий семетр набрали рейтинг 4 : {s1.calculate_scholarship(4)}\n",
    "А тепер вона: {s1._scholarship}\n",
    "Перестали вчитись: {s1.calculate_scholarship(3)}\n",
    "а тепер: {s1._scholarship}\n",
    "\"\"\")"
   ]
  },
  {
   "cell_type": "code",
   "execution_count": 10,
   "metadata": {},
   "outputs": [
    {
     "name": "stdout",
     "output_type": "stream",
     "text": [
      "Викликаємо __init__\n",
      "У Яреми з'явилось крутість: Комп'ютерні ігри\n",
      "У Яреми з'явилось крутість: швидка їзда\n"
     ]
    }
   ],
   "source": [
    "# 10. Виклик методів з класу та об'єкта\n",
    "from my_class import YaremaStudent\n",
    "\n",
    "a = YaremaStudent(\"Один\", \"Юра\", 1)\n",
    "a.hobbies(\"Комп'ютерні ігри\")\n",
    "\n",
    "# Викликаємо статичний метод без вказівки на об'єкт\n",
    "YaremaStudent.hobbies(\"швидка їзда\")"
   ]
  },
  {
   "cell_type": "code",
   "execution_count": null,
   "metadata": {},
   "outputs": [],
   "source": [
    "# 11. Створення студентів за допомогою альтернативних конструкторів\n",
    "from my_class import YaremaStudent\n",
    "\n",
    "js = YaremaStudent(\"Smith\", \"Jhon\", 0)\n",
    "\n",
    "f_js = YaremaStudent.create_from_reversed_name(\"Jhon Smith\")\n",
    "r_js = YaremaStudent.create_from_full_name(\"Smith Jhon\")\n",
    "\n",
    "print(js.last_name, f_js.last_name, r_js.last_name) \n",
    "print(s1.last_name)\n",
    "\n",
    "print(s1._age)\n",
    "s1._age = 10\n",
    "print(s1._age)\n",
    "\n",
    "# s1.__last_name  # це викликає помилку"
   ]
  }
 ],
 "metadata": {
  "kernelspec": {
   "display_name": "Python 3",
   "language": "python",
   "name": "python3"
  },
  "language_info": {
   "codemirror_mode": {
    "name": "ipython",
    "version": 3
   },
   "file_extension": ".py",
   "mimetype": "text/x-python",
   "name": "python",
   "nbconvert_exporter": "python",
   "pygments_lexer": "ipython3",
   "version": "3.11.9"
  }
 },
 "nbformat": 4,
 "nbformat_minor": 2
}
