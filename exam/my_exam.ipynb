{
 "cells": [
  {
   "cell_type": "markdown",
   "metadata": {},
   "source": [
    "## Екзаменаційне питання\n",
    "-  Клас з статичним методом який повертає форматовану стрічку"
   ]
  },
  {
   "cell_type": "code",
   "execution_count": 3,
   "metadata": {},
   "outputs": [
    {
     "name": "stdout",
     "output_type": "stream",
     "text": [
      "Привіт, мене звати Ярема. Мені 20 років, і я живу у Львові.\n"
     ]
    }
   ],
   "source": [
    " \n",
    "\n",
    "class Formatter:  \n",
    "    @staticmethod  \n",
    "    def string(name, age, city):  \n",
    "        return f\"Привіт, мене звати {name}. Мені {age} років, і я живу у {city}.\"\n",
    "\n",
    "\n",
    "formatted_text = Formatter.string(\"Ярема\", 20, \"Львові\")  \n",
    "print(formatted_text)  "
   ]
  }
 ],
 "metadata": {
  "kernelspec": {
   "display_name": "Python 3",
   "language": "python",
   "name": "python3"
  },
  "language_info": {
   "codemirror_mode": {
    "name": "ipython",
    "version": 3
   },
   "file_extension": ".py",
   "mimetype": "text/x-python",
   "name": "python",
   "nbconvert_exporter": "python",
   "pygments_lexer": "ipython3",
   "version": "3.13.1"
  }
 },
 "nbformat": 4,
 "nbformat_minor": 2
}
